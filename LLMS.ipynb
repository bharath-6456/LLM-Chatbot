{
  "nbformat": 4,
  "nbformat_minor": 0,
  "metadata": {
    "colab": {
      "provenance": [],
      "authorship_tag": "ABX9TyMnJon6nOKoLOxL7l85CLo6",
      "include_colab_link": true
    },
    "kernelspec": {
      "name": "python3",
      "display_name": "Python 3"
    },
    "language_info": {
      "name": "python"
    }
  },
  "cells": [
    {
      "cell_type": "markdown",
      "metadata": {
        "id": "view-in-github",
        "colab_type": "text"
      },
      "source": [
        "<a href=\"https://colab.research.google.com/github/bharath-6456/LLM-Chatbot/blob/main/LLMS.ipynb\" target=\"_parent\"><img src=\"https://colab.research.google.com/assets/colab-badge.svg\" alt=\"Open In Colab\"/></a>"
      ]
    },
    {
      "cell_type": "code",
      "execution_count": 3,
      "metadata": {
        "id": "RR89qyIPGnC9"
      },
      "outputs": [],
      "source": [
        "pip install -qU \"langchain[google-genai]\" google-ai-generativelanguage==0.6.15"
      ]
    },
    {
      "cell_type": "code",
      "source": [
        "import getpass\n",
        "import os\n",
        "\n",
        "if not os.environ.get(\"GOOGLE_API_KEY\"):\n",
        "  os.environ[\"GOOGLE_API_KEY\"] = getpass.getpass(\"Enter API key for Google Gemini: \")\n",
        "\n",
        "from langchain.chat_models import init_chat_model\n",
        "\n",
        "model = init_chat_model(\"gemini-2.0-flash\", model_provider=\"google_genai\")"
      ],
      "metadata": {
        "id": "LTgAXl_iHJjV"
      },
      "execution_count": 14,
      "outputs": []
    },
    {
      "cell_type": "code",
      "source": [],
      "metadata": {
        "id": "Rp5gXF3iKpEA"
      },
      "execution_count": null,
      "outputs": []
    },
    {
      "cell_type": "code",
      "source": [],
      "metadata": {
        "id": "0QSy3JhnKrQb"
      },
      "execution_count": null,
      "outputs": []
    },
    {
      "cell_type": "code",
      "source": [
        "from langchain_core.messages import HumanMessage\n",
        "\n",
        "res=model.invoke([HumanMessage(content=\"Hi! I'm sai lanja\")])"
      ],
      "metadata": {
        "id": "RrsrJJcqIJmj"
      },
      "execution_count": 8,
      "outputs": []
    },
    {
      "cell_type": "code",
      "source": [
        "res=model.invoke([HumanMessage(content=\"give a good nick name\")])"
      ],
      "metadata": {
        "id": "kigkesXDJj7B"
      },
      "execution_count": 10,
      "outputs": []
    },
    {
      "cell_type": "code",
      "source": [
        "res=model.invoke([HumanMessage(content=\"name =sai charan,hobbies =cricket,child play,funny energetic ,good at sports and cool n funy\")])"
      ],
      "metadata": {
        "id": "E3NV0521ILv5"
      },
      "execution_count": 12,
      "outputs": []
    },
    {
      "cell_type": "code",
      "source": [
        "print(res.content)"
      ],
      "metadata": {
        "colab": {
          "base_uri": "https://localhost:8080/"
        },
        "id": "6Sk3dsCfKGvx",
        "outputId": "75d29fbf-5c56-4089-c7f7-4f8a15ca193a"
      },
      "execution_count": 13,
      "outputs": [
        {
          "output_type": "stream",
          "name": "stdout",
          "text": [
            "Okay, thanks for sharing that information! It seems like you're describing someone named Sai Charan with the following traits:\n",
            "\n",
            "*   **Name:** Sai Charan\n",
            "*   **Hobbies:** Cricket\n",
            "*   **Personality:** Child-like playfulness, energetic, funny, cool\n",
            "*   **Skills/Aptitudes:** Good at sports, funny\n",
            "\n",
            "This is a good start to defining Sai Charan's character or personality. Do you have any other information you'd like to share or any specific questions you'd like me to answer about Sai Charan? For example, would you like me to:\n",
            "\n",
            "*   Suggest other hobbies Sai Charan might enjoy?\n",
            "*   Create a short story featuring Sai Charan?\n",
            "*   Help you refine Sai Charan's character further?\n",
            "*   Suggest a career path that might suit Sai Charan?\n",
            "\n",
            "Let me know what you'd like to do with this information!\n"
          ]
        }
      ]
    },
    {
      "cell_type": "code",
      "source": [
        "res=model.invoke([HumanMessage(content=\"its enough give nickname\")])"
      ],
      "metadata": {
        "id": "_pMCt3mlKsc5"
      },
      "execution_count": 16,
      "outputs": []
    },
    {
      "cell_type": "code",
      "source": [
        "res=model.invoke([HumanMessage(content=\"suggest some good movies for motivation\")])\n",
        "print(res.content)"
      ],
      "metadata": {
        "colab": {
          "base_uri": "https://localhost:8080/"
        },
        "id": "kDaDZ5stK022",
        "outputId": "2f0f78ad-3c36-4b72-e0af-6fa60b4beba7"
      },
      "execution_count": 18,
      "outputs": [
        {
          "output_type": "stream",
          "name": "stdout",
          "text": [
            "Okay, let's break down \"motivation\" into a few categories, as different movies motivate in different ways. I'll give you options for:\n",
            "\n",
            "*   **Overcoming Obstacles/Never Giving Up:**\n",
            "*   **Finding Your Purpose/Passion:**\n",
            "*   **Achieving Greatness:**\n",
            "*   **Social Justice/Making a Difference:**\n",
            "*   **Personal Growth/Self-Discovery:**\n",
            "\n",
            "Here are some movie suggestions:\n",
            "\n",
            "**1. Overcoming Obstacles/Never Giving Up:**\n",
            "\n",
            "*   ***Rudy (1993):***  A classic underdog story about a man who dreams of playing football for Notre Dame despite his small stature and lack of athletic ability. Pure heart and determination.\n",
            "*   ***The Pursuit of Happyness (2006):***  Will Smith's powerful portrayal of a struggling single father who overcomes homelessness and countless setbacks to build a better life for his son.  Resilience personified.\n",
            "*   ***Rocky (1976):***  Another classic, about a small-time boxer who gets a shot at the world title.  It's not just about winning, but about going the distance.\n",
            "*   ***Million Dollar Baby (2004):*** A determined woman finds a mentor in a grizzled boxing trainer and pursues her dream of becoming a professional boxer.\n",
            "*   ***Soul Surfer (2011):*** A young surfer loses her arm in a shark attack but courageously returns to the sport.\n",
            "*   ***Unbroken (2014):*** The true story of Louis Zamperini, an Olympic runner who survives a plane crash and becomes a prisoner of war. His resilience and will to survive are incredible.\n",
            "\n",
            "**2. Finding Your Purpose/Passion:**\n",
            "\n",
            "*   ***Dead Poets Society (1989):***  A charismatic English teacher inspires his students to \"seize the day\" and pursue their passions, even if it means challenging the status quo.\n",
            "*   ***Chef (2014):***  A chef rediscovers his love of cooking and reconnects with his family by starting a food truck.  A feel-good movie about following your heart.\n",
            "*   ***School of Rock (2003):*** A substitute teacher uses rock music to inspire his students and help them find their talents.\n",
            "*   ***Little Miss Sunshine (2006):*** An eccentric family embarks on a road trip to support their daughter's dream of competing in a beauty pageant. It's about embracing individuality and finding joy in the journey.\n",
            "*   ***Amelie (2001):*** A quirky and imaginative young woman sets out to spread happiness and change the lives of those around her.\n",
            "\n",
            "**3. Achieving Greatness:**\n",
            "\n",
            "*   ***The Social Network (2010):***  The story of the founding of Facebook.  It's about ambition, innovation, and the complexities of success.\n",
            "*   ***Steve Jobs (2015):*** A biographical drama about the life of the Apple co-founder.\n",
            "*   ***Hidden Figures (2016):*** The true story of three brilliant African-American women who played a vital role in NASA's early space missions.\n",
            "*   ***The King's Speech (2010):*** A historical drama about King George VI who overcomes a stammer with the help of an unconventional speech therapist.\n",
            "\n",
            "**4. Social Justice/Making a Difference:**\n",
            "\n",
            "*   ***Erin Brockovich (2000):***  A single mother becomes a legal clerk and uncovers a massive corporate cover-up involving contaminated water.\n",
            "*   ***Gandhi (1982):***  An epic biographical film about the life of Mahatma Gandhi and his nonviolent struggle for Indian independence.\n",
            "*   ***Selma (2014):***  A powerful depiction of the 1965 voting rights marches led by Martin Luther King Jr.\n",
            "*   ***Spotlight (2015):*** A team of investigative journalists at the Boston Globe uncover a widespread pattern of child sex abuse within the Catholic Church.\n",
            "*   ***Invictus (2009):***  Nelson Mandela uses the 1995 Rugby World Cup to unite a divided South Africa.\n",
            "\n",
            "**5. Personal Growth/Self-Discovery:**\n",
            "\n",
            "*   ***Eat Pray Love (2010):***  A woman embarks on a journey of self-discovery after a painful divorce.\n",
            "*   ***Wild (2014):***  A woman hikes the Pacific Crest Trail alone as a way to cope with personal tragedy and find herself.\n",
            "*   ***Into the Wild (2007):***  A young man abandons his privileged life and travels into the Alaskan wilderness in search of meaning. (Note: This one is more cautionary than purely motivational, but it sparks reflection on values.)\n",
            "*   ***Good Will Hunting (1997):***  A troubled but brilliant young man receives therapy and confronts his past.\n",
            "*   ***The Shawshank Redemption (1994):*** A wrongly convicted man finds hope and resilience while imprisoned.\n",
            "\n",
            "**To help me narrow down the best recommendations for you, tell me:**\n",
            "\n",
            "*   **What kind of motivation are you looking for?**  (e.g., to get a promotion, to start a business, to get in shape, to overcome a personal challenge, etc.)\n",
            "*   **What genres of movies do you typically enjoy?** (e.g., drama, comedy, action, documentary, etc.)\n",
            "*   **Are there any specific actors or directors you like?**\n",
            "\n",
            "Happy watching!\n"
          ]
        }
      ]
    }
  ]
}